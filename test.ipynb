{
 "cells": [
  {
   "cell_type": "code",
   "execution_count": 1,
   "metadata": {},
   "outputs": [
    {
     "name": "stdout",
     "output_type": "stream",
     "text": [
      "WARNING:tensorflow:No training configuration found in the save file, so the model was *not* compiled. Compile it manually.\n"
     ]
    }
   ],
   "source": [
    "import tensorflow.keras\n",
    "import numpy as np\n",
    "import cv2\n",
    "from delet import Ui_MainWindow\n",
    "from PyQt5 import QtCore, QtGui, QtWidgets \n",
    "import sys\n",
    "# Disable scientific notation for clarity\n",
    "np.set_printoptions(suppress=True)\n",
    "\n",
    "# Load the model\n",
    "model = tensorflow.keras.models.load_model('keras_model.h5')\n",
    "\n",
    "# Create the array of the right shape to feed into the keras model\n",
    "# The 'length' or number of images you can put into the array is\n",
    "# determined by the first position in the shape tuple, in this case 1.\n",
    "data = np.ndarray(shape=(1, 224, 224, 3), dtype=np.float32)\n",
    "\n",
    "# Replace this with the path to your image\n",
    "cam = cv2.VideoCapture(0)\n",
    "def hello(u):\n",
    "    app = QtWidgets.QApplication(sys.argv)\n",
    "    MainWindow=QtWidgets.QMainWindow()\n",
    "    u=Ui_MainWindow()\n",
    "    u.setupUi(MainWindow)\n",
    "    MainWindow.show()\n",
    "    sys.exit(app.exec_())\n",
    "\n",
    "text = \"\"\n",
    "text2=\"\"\n",
    "text3=\"NAME:\"\n",
    "text4=\"CALORIES:\"\n",
    "while True:\n",
    "    # _,img = cv2.imread('right.jpg')\n",
    "    _,img = cam.read()\n",
    "    img = cv2.resize(img,(224, 224))\n",
    "    #turn the image into a numpy array\n",
    "    image_array = np.asarray(img)\n",
    "\n",
    "    # Normalize the image\n",
    "    normalized_image_array = (image_array.astype(np.float32) / 127.0) - 1\n",
    "\n",
    "    # Load the image into the array\n",
    "    data[0] = normalized_image_array\n",
    "\n",
    "    # run the inference\n",
    "    prediction = model.predict(data)\n",
    "    # print(prediction)\n",
    "    for i in prediction:\n",
    "        if i[0] > 0.7:\n",
    "            text =\"apple\"\n",
    "            text2=\"52 kcal\"\n",
    "            cv2.createTrackbar('B', 'img', 0, 1, hello)\n",
    "            break\n",
    "        if i[1] > 0.7:\n",
    "            text =\"banana\"\n",
    "            text2=\"89 kcal\"\n",
    "        if i[2] > 0.7:\n",
    "            text =\"orange\"\n",
    "            text2=\"47 kcal\"\n",
    "            \n",
    "        # print(text)\n",
    "        img = cv2.resize(img,(500, 500))\n",
    "        cv2.rectangle(img, (500,500), (3,350), (240,240,240), cv2.FILLED)\n",
    "        cv2.putText(img,text3,(10,400),cv2.FONT_HERSHEY_COMPLEX_SMALL,2,(0,0,0),1)\n",
    "        cv2.putText(img,text4,(10,440),cv2.FONT_HERSHEY_COMPLEX_SMALL,2,(0,0,0),1)\n",
    "        cv2.putText(img,text,(170,400),cv2.FONT_HERSHEY_COMPLEX_SMALL,2,(0,0,0),1)\n",
    "        cv2.putText(img,text2,(250,440),cv2.FONT_HERSHEY_COMPLEX_SMALL,2,(0,0,0),1)    \n",
    "    if cv2.waitKey(1) & 0xFF == ord('q'): #This adds a Delay and looks for the key press inorder to break the loop\n",
    "        cv2.destroyAllWindows()\n",
    "        break\n",
    "    cv2.imshow('img',img)\n",
    "    cv2.waitKey(1)\n",
    "    "
   ]
  }
 ],
 "metadata": {
  "interpreter": {
   "hash": "f9d77b0e9f9ca67815d5a1c7db8aa306d48fa5c14152701c5d5c5c11f6164f8b"
  },
  "kernelspec": {
   "display_name": "Python 3.9.2 64-bit (system)",
   "name": "python3"
  },
  "language_info": {
   "codemirror_mode": {
    "name": "ipython",
    "version": 3
   },
   "file_extension": ".py",
   "mimetype": "text/x-python",
   "name": "python",
   "nbconvert_exporter": "python",
   "pygments_lexer": "ipython3",
   "version": "3.9.2"
  },
  "orig_nbformat": 4
 },
 "nbformat": 4,
 "nbformat_minor": 2
}
